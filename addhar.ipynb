{
 "cells": [
  {
   "cell_type": "code",
   "execution_count": 1,
   "metadata": {},
   "outputs": [],
   "source": [
    "import os\n",
    "import cv2;\n",
    "from PIL import Image\n",
    "import pytesseract;\n",
    "import numpy;\n",
    "from zipfile import ZipFile\n",
    "import re\n",
    "import matplotlib.pyplot as plt\n",
    "from itertools import chain\n",
    "import xlsxwriter \n",
    "import pandas as pd\n",
    "import imageio"
   ]
  },
  {
   "cell_type": "code",
   "execution_count": 2,
   "metadata": {},
   "outputs": [],
   "source": [
    "pytesseract.pytesseract.tesseract_cmd=r'C:\\\\Users\\\\raushan.kumar\\\\AppData\\\\Local\\\\Tesseract-OCR\\\\tesseract.exe'"
   ]
  },
  {
   "cell_type": "code",
   "execution_count": 3,
   "metadata": {},
   "outputs": [],
   "source": [
    "path=\"D:\\A\";\n",
    "patha=[]\n",
    "for root, dirs, files in os.walk(\"D:\\Files\"):\n",
    "    for filename in files:\n",
    "        path1=path+'\\\\'+filename;\n",
    "        patha.append(path1)\n",
    "    break"
   ]
  },
  {
   "cell_type": "code",
   "execution_count": 4,
   "metadata": {},
   "outputs": [
    {
     "name": "stdout",
     "output_type": "stream",
     "text": [
      "47\n"
     ]
    },
    {
     "data": {
      "text/plain": [
       "['D:\\\\A\\\\Address Proof_10946588- no Aadhaar.TIF',\n",
       " 'D:\\\\A\\\\Address Proof_11826671.TIF',\n",
       " 'D:\\\\A\\\\Address Proof_11974205.TIF',\n",
       " 'D:\\\\A\\\\Address Proof_12091402.TIF',\n",
       " 'D:\\\\A\\\\Address Proof_12091433.TIF',\n",
       " 'D:\\\\A\\\\Address Proof_12169311.TIF',\n",
       " 'D:\\\\A\\\\Address Proof_12204811 - no Aadhaar.TIF',\n",
       " 'D:\\\\A\\\\Address Proof_12229080.TIF',\n",
       " 'D:\\\\A\\\\Address Proof_12238011.TIF',\n",
       " 'D:\\\\A\\\\Address Proof_12253965.TIF',\n",
       " 'D:\\\\A\\\\Address Proof_31932542.TIF',\n",
       " 'D:\\\\A\\\\Address Proof_31935793.TIF',\n",
       " 'D:\\\\A\\\\Address Proof_32302622.TIF',\n",
       " 'D:\\\\A\\\\Age Proof_11974205 - no Aadhaar.TIF',\n",
       " 'D:\\\\A\\\\Age Proof_12091402.TIF',\n",
       " 'D:\\\\A\\\\Age Proof_12091433.TIF',\n",
       " 'D:\\\\A\\\\Age Proof_12169311.TIF',\n",
       " 'D:\\\\A\\\\Age Proof_12204811.TIF',\n",
       " 'D:\\\\A\\\\Age Proof_12229080.TIF',\n",
       " 'D:\\\\A\\\\Age Proof_12238011.TIF',\n",
       " 'D:\\\\A\\\\Age Proof_12238033.TIF',\n",
       " 'D:\\\\A\\\\Age Proof_12253965 - no Aadhaar.TIF',\n",
       " 'D:\\\\A\\\\Age Proof_31932542.TIF',\n",
       " 'D:\\\\A\\\\Age Proof_32302622 - no Aadhaar.TIF',\n",
       " 'D:\\\\A\\\\Application Form_10946588 - no Aadhaar.TIF',\n",
       " 'D:\\\\A\\\\Application Form_12091402 - no Aadhaar.TIF',\n",
       " 'D:\\\\A\\\\Application Form_12091433 - no Aadhaar.TIF',\n",
       " 'D:\\\\A\\\\Application Form_12193087 - no Aadhaar.TIF',\n",
       " 'D:\\\\A\\\\Application Form_12204811 - no Aadhaar.TIF',\n",
       " 'D:\\\\A\\\\Application Form_12229080 - no Aadhaar.TIF',\n",
       " 'D:\\\\A\\\\Application Form_12253965 - no Aadhaar.TIF',\n",
       " 'D:\\\\A\\\\Application Form_31932542 - no Aadhaar.TIF',\n",
       " 'D:\\\\A\\\\Application Form_32302622 - no Aadhaar.TIF',\n",
       " 'D:\\\\A\\\\Application_Form_13087298.TIF',\n",
       " 'D:\\\\A\\\\Application_Form_13116337.TIF',\n",
       " 'D:\\\\A\\\\Application_Form_13134841.TIF',\n",
       " 'D:\\\\A\\\\Application_Form_13139022.TIF',\n",
       " 'D:\\\\A\\\\Application_Form_13160481.TIF',\n",
       " 'D:\\\\A\\\\Identity_Proof_12101246 - no Aadhaar.TIF',\n",
       " 'D:\\\\A\\\\Identity_Proof_12720791 - no Aadhaar.TIF',\n",
       " 'D:\\\\A\\\\Identity_Proof_12727406.TIF',\n",
       " 'D:\\\\A\\\\Identity_Proof_12727407.TIF',\n",
       " 'D:\\\\A\\\\Identity_Proof_12727435.TIF',\n",
       " 'D:\\\\A\\\\Identity_Proof_12769114.TIF',\n",
       " 'D:\\\\A\\\\Identity_Proof_12824613.TIF',\n",
       " 'D:\\\\A\\\\Identity_Proof_12824620.TIF',\n",
       " 'D:\\\\A\\\\Identity_Proof_12910325.TIF']"
      ]
     },
     "execution_count": 4,
     "metadata": {},
     "output_type": "execute_result"
    }
   ],
   "source": [
    "print(len(patha))\n",
    "patha"
   ]
  },
  {
   "cell_type": "code",
   "execution_count": 5,
   "metadata": {},
   "outputs": [],
   "source": [
    "page_co=[];\n",
    "for j in range(len(patha)):\n",
    "  img = Image.open(patha[j])\n",
    "  u=0;\n",
    "  for i in range(15):\n",
    "    try:\n",
    "        img.seek(i)\n",
    "        u=u+1;\n",
    "    except EOFError:\n",
    "        break\n",
    "  v=[patha[j],u];\n",
    "  page_co.append(v);"
   ]
  },
  {
   "cell_type": "code",
   "execution_count": 6,
   "metadata": {},
   "outputs": [
    {
     "name": "stdout",
     "output_type": "stream",
     "text": [
      "['D:\\\\A\\\\Address Proof_10946588- no Aadhaar.TIF', 1]\n",
      "['D:\\\\A\\\\Address Proof_11826671.TIF', 3]\n",
      "['D:\\\\A\\\\Address Proof_11974205.TIF', 1]\n",
      "['D:\\\\A\\\\Address Proof_12091402.TIF', 1]\n",
      "['D:\\\\A\\\\Address Proof_12091433.TIF', 1]\n",
      "['D:\\\\A\\\\Address Proof_12169311.TIF', 4]\n",
      "['D:\\\\A\\\\Address Proof_12204811 - no Aadhaar.TIF', 1]\n",
      "['D:\\\\A\\\\Address Proof_12229080.TIF', 6]\n",
      "['D:\\\\A\\\\Address Proof_12238011.TIF', 4]\n",
      "['D:\\\\A\\\\Address Proof_12253965.TIF', 8]\n",
      "['D:\\\\A\\\\Address Proof_31932542.TIF', 9]\n",
      "['D:\\\\A\\\\Address Proof_31935793.TIF', 1]\n",
      "['D:\\\\A\\\\Address Proof_32302622.TIF', 1]\n",
      "['D:\\\\A\\\\Age Proof_11974205 - no Aadhaar.TIF', 1]\n",
      "['D:\\\\A\\\\Age Proof_12091402.TIF', 1]\n",
      "['D:\\\\A\\\\Age Proof_12091433.TIF', 1]\n",
      "['D:\\\\A\\\\Age Proof_12169311.TIF', 4]\n",
      "['D:\\\\A\\\\Age Proof_12204811.TIF', 1]\n",
      "['D:\\\\A\\\\Age Proof_12229080.TIF', 6]\n",
      "['D:\\\\A\\\\Age Proof_12238011.TIF', 4]\n",
      "['D:\\\\A\\\\Age Proof_12238033.TIF', 3]\n",
      "['D:\\\\A\\\\Age Proof_12253965 - no Aadhaar.TIF', 1]\n",
      "['D:\\\\A\\\\Age Proof_31932542.TIF', 9]\n",
      "['D:\\\\A\\\\Age Proof_32302622 - no Aadhaar.TIF', 1]\n",
      "['D:\\\\A\\\\Application Form_10946588 - no Aadhaar.TIF', 6]\n",
      "['D:\\\\A\\\\Application Form_12091402 - no Aadhaar.TIF', 6]\n",
      "['D:\\\\A\\\\Application Form_12091433 - no Aadhaar.TIF', 6]\n",
      "['D:\\\\A\\\\Application Form_12193087 - no Aadhaar.TIF', 6]\n",
      "['D:\\\\A\\\\Application Form_12204811 - no Aadhaar.TIF', 6]\n",
      "['D:\\\\A\\\\Application Form_12229080 - no Aadhaar.TIF', 6]\n",
      "['D:\\\\A\\\\Application Form_12253965 - no Aadhaar.TIF', 8]\n",
      "['D:\\\\A\\\\Application Form_31932542 - no Aadhaar.TIF', 6]\n",
      "['D:\\\\A\\\\Application Form_32302622 - no Aadhaar.TIF', 7]\n",
      "['D:\\\\A\\\\Application_Form_13087298.TIF', 10]\n",
      "['D:\\\\A\\\\Application_Form_13116337.TIF', 10]\n",
      "['D:\\\\A\\\\Application_Form_13134841.TIF', 10]\n",
      "['D:\\\\A\\\\Application_Form_13139022.TIF', 10]\n",
      "['D:\\\\A\\\\Application_Form_13160481.TIF', 10]\n",
      "['D:\\\\A\\\\Identity_Proof_12101246 - no Aadhaar.TIF', 1]\n",
      "['D:\\\\A\\\\Identity_Proof_12720791 - no Aadhaar.TIF', 1]\n",
      "['D:\\\\A\\\\Identity_Proof_12727406.TIF', 1]\n",
      "['D:\\\\A\\\\Identity_Proof_12727407.TIF', 1]\n",
      "['D:\\\\A\\\\Identity_Proof_12727435.TIF', 1]\n",
      "['D:\\\\A\\\\Identity_Proof_12769114.TIF', 1]\n",
      "['D:\\\\A\\\\Identity_Proof_12824613.TIF', 1]\n",
      "['D:\\\\A\\\\Identity_Proof_12824620.TIF', 1]\n",
      "['D:\\\\A\\\\Identity_Proof_12910325.TIF', 2]\n"
     ]
    }
   ],
   "source": [
    "for i in range(len(page_co)):\n",
    "  print(page_co[i])"
   ]
  },
  {
   "cell_type": "code",
   "execution_count": 7,
   "metadata": {},
   "outputs": [],
   "source": [
    "def finda(text):\n",
    "  n=len(text);\n",
    "  if(n<12):\n",
    "    return 0;\n",
    "  for i in range(14,n):\n",
    "    #print(\"ssa\");\n",
    "    s=text[i-14:i];\n",
    "    #print(i,\":\",s)\n",
    "    if(s[4]==\" \" and s[9]==\" \"):\n",
    "\n",
    "      s=s.replace(\" \",\"\");\n",
    "      n1=len(s);\n",
    "      s1=s[n1-12:n1];\n",
    "      if(i==125):\n",
    "        #print('shv')\n",
    "        #print(i,\":\",s,\" \",s1);\n",
    "        pass;\n",
    "      if(s1.isnumeric() and len(s1)>=12):\n",
    "        #print(s1)\n",
    "        return 1;\n",
    "  return 0;"
   ]
  },
  {
   "cell_type": "code",
   "execution_count": 8,
   "metadata": {},
   "outputs": [],
   "source": [
    "gaussianfilter = numpy.array(([[1, 4, 7,4,1],[4,16,26,16,4],[7,26,41,26,7],[1, 4, 7,4,1],[4,16,26,16,4] ]), numpy.float32)/273;\n",
    "meanfilter = numpy.array(([[1, 1, 1,1,1],[1, 1, 1,1,1],[1, 1, 1,1,1],[1, 1, 1,1,1],[1, 1, 1,1,1]]), numpy.float32)/25;"
   ]
  },
  {
   "cell_type": "code",
   "execution_count": 9,
   "metadata": {},
   "outputs": [
    {
     "name": "stdout",
     "output_type": "stream",
     "text": [
      "0\n",
      "1 D:\\A\\Address Proof_10946588- no Aadhaar.TIF\n",
      "<PIL.TiffImagePlugin.TiffImageFile image mode=1 size=1656x2338 at 0x19E264C8550>\n",
      "<class 'numpy.ndarray'>\n"
     ]
    },
    {
     "ename": "IndexError",
     "evalue": "too many indices for array: array is 0-dimensional, but 1 were indexed",
     "output_type": "error",
     "traceback": [
      "\u001b[1;31m---------------------------------------------------------------------------\u001b[0m",
      "\u001b[1;31mIndexError\u001b[0m                                Traceback (most recent call last)",
      "\u001b[1;32m<ipython-input-9-1ae5dcacb886>\u001b[0m in \u001b[0;36m<module>\u001b[1;34m\u001b[0m\n\u001b[0;32m     18\u001b[0m         \u001b[0mprint\u001b[0m\u001b[1;33m(\u001b[0m\u001b[0marray\u001b[0m\u001b[1;33m)\u001b[0m\u001b[1;33m\u001b[0m\u001b[1;33m\u001b[0m\u001b[0m\n\u001b[0;32m     19\u001b[0m         \u001b[0mprint\u001b[0m\u001b[1;33m(\u001b[0m\u001b[0mtype\u001b[0m\u001b[1;33m(\u001b[0m\u001b[0marray\u001b[0m\u001b[1;33m)\u001b[0m\u001b[1;33m)\u001b[0m\u001b[1;33m\u001b[0m\u001b[1;33m\u001b[0m\u001b[0m\n\u001b[1;32m---> 20\u001b[1;33m         \u001b[1;32mif\u001b[0m\u001b[1;33m(\u001b[0m\u001b[0marray\u001b[0m\u001b[1;33m[\u001b[0m\u001b[1;36m0\u001b[0m\u001b[1;33m]\u001b[0m\u001b[1;33m[\u001b[0m\u001b[1;36m0\u001b[0m\u001b[1;33m]\u001b[0m\u001b[1;33m==\u001b[0m\u001b[1;32mTrue\u001b[0m \u001b[1;32mor\u001b[0m \u001b[0marray\u001b[0m\u001b[1;33m[\u001b[0m\u001b[1;36m0\u001b[0m\u001b[1;33m]\u001b[0m\u001b[1;33m[\u001b[0m\u001b[1;36m0\u001b[0m\u001b[1;33m]\u001b[0m\u001b[1;33m==\u001b[0m\u001b[1;32mFalse\u001b[0m\u001b[1;33m)\u001b[0m\u001b[1;33m:\u001b[0m\u001b[1;33m\u001b[0m\u001b[1;33m\u001b[0m\u001b[0m\n\u001b[0m\u001b[0;32m     21\u001b[0m              \u001b[0marray\u001b[0m\u001b[1;33m=\u001b[0m\u001b[0marray\u001b[0m\u001b[1;33m*\u001b[0m\u001b[1;36m255\u001b[0m\u001b[1;33m;\u001b[0m\u001b[1;33m\u001b[0m\u001b[1;33m\u001b[0m\u001b[0m\n\u001b[0;32m     22\u001b[0m              \u001b[0mimg10\u001b[0m \u001b[1;33m=\u001b[0m \u001b[0marray\u001b[0m\u001b[1;33m.\u001b[0m\u001b[0mastype\u001b[0m\u001b[1;33m(\u001b[0m\u001b[0mnumpy\u001b[0m\u001b[1;33m.\u001b[0m\u001b[0muint8\u001b[0m\u001b[1;33m)\u001b[0m\u001b[1;33m\u001b[0m\u001b[1;33m\u001b[0m\u001b[0m\n",
      "\u001b[1;31mIndexError\u001b[0m: too many indices for array: array is 0-dimensional, but 1 were indexed"
     ]
    }
   ],
   "source": [
    "li=[];\n",
    "str1='Aadhaar';\n",
    "str2=\"DOB:\"\n",
    "#print(patha)\n",
    "for j in range(len(patha)):\n",
    "  img = Image.open(patha[j])\n",
    "  #array=numpy.array(img);\n",
    "  #print(array)\n",
    "  #print(type(array))  \n",
    "  u=0;\n",
    "  print(j)\n",
    "  for i in range(25):\n",
    "    try:\n",
    "        img.seek(i)\n",
    "        u=u+1;\n",
    "        array=numpy.array(img);\n",
    "        print(u,patha[j]);\n",
    "        print(array)\n",
    "        print(type(array))\n",
    "        if(array[0][0]==True or array[0][0]==False):\n",
    "             array=array*255;\n",
    "             img10 = array.astype(numpy.uint8)\n",
    "             array=numpy.array(img10)\n",
    "        text=pytesseract.image_to_string(array);\n",
    "        if(re.search(str1,text)):\n",
    "             break;\n",
    "        else:\n",
    "             v=finda(text);\n",
    "             if(v):\n",
    "                break;\n",
    "             else:\n",
    "                gaussianBlur = cv2.filter2D(src=array, kernel=gaussianfilter, ddepth=-1)\n",
    "                text=pytesseract.image_to_string(gaussianBlur);\n",
    "                v=finda(text);\n",
    "                if(v):\n",
    "                    break;\n",
    "                else:\n",
    "                    mean_array = cv2.filter2D(src=gaussianBlur, kernel=meanfilter, ddepth=-1)\n",
    "                    text=pytesseract.image_to_string(mean_array);\n",
    "                    v=finda(text)\n",
    "                    if(v):\n",
    "                       break;\n",
    "                    else:\n",
    "                       pass;\n",
    "    except EOFError:\n",
    "        u=0;\n",
    "        #print()\n",
    "        break\n",
    "  page_co[j].append(u);\n",
    "  print(page_co[j])\n",
    "  li.append(u);"
   ]
  },
  {
   "cell_type": "code",
   "execution_count": null,
   "metadata": {},
   "outputs": [],
   "source": [
    "page_co"
   ]
  },
  {
   "cell_type": "code",
   "execution_count": null,
   "metadata": {},
   "outputs": [],
   "source": [
    "img = Image.open(r'D:\\\\Files\\\\Address Proof_10946588- no Aadhaar.TIF')\n",
    "img.seek(0)\n",
    "#img\n",
    "#pil_img =Image(filename=r'C:\\Users\\raushan.kumar\\Desktop\\Text.jfif') \n",
    "display(img)"
   ]
  },
  {
   "cell_type": "code",
   "execution_count": null,
   "metadata": {},
   "outputs": [],
   "source": [
    "print(array1)\n",
    "print(array2)\n",
    "print(array3)\n",
    "print(type(array1))\n",
    "print(type(array2))\n",
    "print(type(array3))"
   ]
  },
  {
   "cell_type": "code",
   "execution_count": null,
   "metadata": {},
   "outputs": [],
   "source": [
    "img = Image.open(r\"D:\\Files\\Application Form_10946588 - no Aadhaar.TIF\")\n",
    "\n",
    "'''for i in range(4):\n",
    "    try:\n",
    "        img.seek(i)\n",
    "        print(img.getpixel( (0, 0)))\n",
    "    except EOFError:\n",
    "        # Not enough frames in img\n",
    "        break'''\n",
    "img"
   ]
  },
  {
   "cell_type": "code",
   "execution_count": null,
   "metadata": {},
   "outputs": [],
   "source": [
    "pytesseract.pytesseract.tesseract_cmd=r'C:\\\\Users\\\\raushan.kumar\\\\AppData\\\\Local\\\\Tesseract-OCR\\\\tesseract.exe'"
   ]
  },
  {
   "cell_type": "code",
   "execution_count": null,
   "metadata": {},
   "outputs": [],
   "source": [
    "img=cv2.imread(r\"C:\\Users\\raushan.kumar\\Desktop\\Text.jfif\")"
   ]
  },
  {
   "cell_type": "code",
   "execution_count": null,
   "metadata": {},
   "outputs": [],
   "source": [
    "print(type(img))\n",
    "print(img)\n",
    "text=pytesseract.image_to_string(img);\n",
    "print(text)"
   ]
  },
  {
   "cell_type": "code",
   "execution_count": null,
   "metadata": {},
   "outputs": [],
   "source": [
    "B3 = cv2.imread(r\"D:\\Files\\Age Proof_31932542.TIF\", cv2.IMREAD_UNCHANGED)\n",
    "print(B3)\n",
    "print(B3.shape)\n",
    "print(type(B3))\n",
    "text=pytesseract.image_to_string(B3);\n",
    "print(text)"
   ]
  },
  {
   "cell_type": "code",
   "execution_count": null,
   "metadata": {},
   "outputs": [],
   "source": [
    "print(text)"
   ]
  },
  {
   "cell_type": "code",
   "execution_count": null,
   "metadata": {},
   "outputs": [],
   "source": [
    "print(type(text))\n",
    "print(len(text))\n",
    "for i in range(10):\n",
    "    print(text[i])\n",
    "    "
   ]
  },
  {
   "cell_type": "code",
   "execution_count": null,
   "metadata": {},
   "outputs": [],
   "source": [
    "B3 = cv2.imread(r\"D:\\Files\\Address Proof_10946588- no Aadhaar.TIF\", cv2.IMREAD_UNCHANGED)"
   ]
  },
  {
   "cell_type": "code",
   "execution_count": null,
   "metadata": {},
   "outputs": [],
   "source": [
    "print(B3)\n",
    "print(B3.shape)\n",
    "print(type(B3))"
   ]
  },
  {
   "cell_type": "code",
   "execution_count": null,
   "metadata": {},
   "outputs": [],
   "source": [
    "for root, dirs, files in os.walk(\"D:\\Files\"):\n",
    "    for filename in files:\n",
    "        B3 = cv2.imread(filename, cv2.IMREAD_UNCHANGED)\n",
    "        print(type(B3),filename)\n",
    "        print(B3.shape)\n",
    "    break;"
   ]
  },
  {
   "cell_type": "code",
   "execution_count": null,
   "metadata": {},
   "outputs": [],
   "source": [
    "img = Image.open(r\"D:\\Files\\Application Form_10946588 - no Aadhaar.TIF\")"
   ]
  },
  {
   "cell_type": "code",
   "execution_count": null,
   "metadata": {},
   "outputs": [],
   "source": [
    "print(img)\n",
    "print(type(img))"
   ]
  },
  {
   "cell_type": "code",
   "execution_count": null,
   "metadata": {},
   "outputs": [],
   "source": [
    "from PIL import Image, ImageSequence\n",
    "import numpy\n",
    "im = Image.open(\"Age Proof_12169311.TIF\")\n",
    "\n",
    "for i, page in enumerate(ImageSequence.Iterator(im)):\n",
    "    print(page)\n",
    "    print(type(page))\n",
    "    page.show();\n",
    "    #imarray = numpy.array(page)\n",
    "    #print(imarray)\n",
    "    #print(type(imarray))\n",
    "    #page.save(\"page%d.png\" % i)"
   ]
  },
  {
   "cell_type": "code",
   "execution_count": null,
   "metadata": {},
   "outputs": [],
   "source": [
    "img = Image.open(r\"D:\\Files\\Application Form_10946588 - no Aadhaar.TIF\")"
   ]
  },
  {
   "cell_type": "code",
   "execution_count": null,
   "metadata": {},
   "outputs": [],
   "source": [
    "print(img.seek(0))"
   ]
  },
  {
   "cell_type": "code",
   "execution_count": null,
   "metadata": {},
   "outputs": [],
   "source": [
    "import gdal"
   ]
  },
  {
   "cell_type": "code",
   "execution_count": null,
   "metadata": {},
   "outputs": [],
   "source": [
    "f=open(\"D:\\Files\\Application Form_10946588 - no Aadhaar.TIF\",'rb');\n",
    "print(f.readlines())"
   ]
  },
  {
   "cell_type": "code",
   "execution_count": null,
   "metadata": {},
   "outputs": [],
   "source": [
    "print(type(f))"
   ]
  },
  {
   "cell_type": "code",
   "execution_count": null,
   "metadata": {},
   "outputs": [],
   "source": [
    "import cv2\n",
    "import numpy as np\n",
    "\n",
    "# read image\n",
    "img = cv2.imread('D:\\\\Files\\\\Address Proof_11826671.TIF')\n",
    "\n",
    "# blur\n",
    "blur = cv2.GaussianBlur(img, (3,3), 0)\n",
    "\n",
    "# convert to hsv and get saturation channel\n",
    "sat = cv2.cvtColor(blur, cv2.COLOR_BGR2HSV)[:,:,1]\n",
    "\n",
    "# threshold saturation channel\n",
    "thresh = cv2.threshold(sat, 50, 255, cv2.THRESH_BINARY)[1]\n",
    "\n",
    "# apply morphology close and open to make mask\n",
    "kernel = cv2.getStructuringElement(cv2.MORPH_ELLIPSE, (9,9))\n",
    "morph = cv2.morphologyEx(thresh, cv2.MORPH_CLOSE, kernel, iterations=1)\n",
    "mask = cv2.morphologyEx(morph, cv2.MORPH_OPEN, kernel, iterations=1)\n",
    "\n",
    "# do OTSU threshold to get circuit image\n",
    "gray = cv2.cvtColor(img, cv2.COLOR_BGR2GRAY)\n",
    "otsu = cv2.threshold(gray, 0, 255, cv2.THRESH_BINARY+cv2.THRESH_OTSU)[1]\n",
    "\n",
    "# write black to otsu image where mask is black\n",
    "otsu_result = otsu.copy()\n",
    "otsu_result[mask==0] = 0\n",
    "\n",
    "# write black to input image where mask is black\n",
    "img_result = img.copy()\n",
    "img_result[mask==0] = 0\n",
    "\n",
    "# write result to disk\n",
    "cv2.imwrite(\"circuit_board_mask.png\", mask)\n",
    "cv2.imwrite(\"circuit_board_otsu.png\", otsu)\n",
    "cv2.imwrite(\"circuit_board_otsu_result.png\", otsu_result)\n",
    "cv2.imwrite(\"circuit_board_img_result.png\", img_result)\n",
    "\n",
    "\n",
    "# display it\n",
    "cv2.imshow(\"IMAGE\", img)\n",
    "cv2.imshow(\"SAT\", sat)\n",
    "cv2.imshow(\"MASK\", mask)\n",
    "cv2.imshow(\"OTSU\", otsu)\n",
    "cv2.imshow(\"OTSU_RESULT\", otsu_result)\n",
    "cv2.imshow(\"IMAGE_RESULT\", img_result)\n",
    "cv2.waitKey(0)"
   ]
  },
  {
   "cell_type": "code",
   "execution_count": null,
   "metadata": {},
   "outputs": [],
   "source": []
  }
 ],
 "metadata": {
  "kernelspec": {
   "display_name": "Python 3",
   "language": "python",
   "name": "python3"
  },
  "language_info": {
   "codemirror_mode": {
    "name": "ipython",
    "version": 3
   },
   "file_extension": ".py",
   "mimetype": "text/x-python",
   "name": "python",
   "nbconvert_exporter": "python",
   "pygments_lexer": "ipython3",
   "version": "3.8.5"
  }
 },
 "nbformat": 4,
 "nbformat_minor": 4
}
